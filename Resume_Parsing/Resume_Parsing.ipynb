{
 "cells": [
  {
   "cell_type": "markdown",
   "metadata": {},
   "source": [
    "## Pyresparser\n",
    "\n",
    "A simple resume parser used for extracting information from resumes\n",
    "\n",
    "### Features\n",
    "- Extract name\n",
    "- Extract email\n",
    "- Extract mobile numbers\n",
    "- Extract skills\n",
    "- Extract total experience\n",
    "- Extract college name\n",
    "- Extract degree\n",
    "- Extract designation\n",
    "- Extract company names"
   ]
  },
  {
   "cell_type": "code",
   "execution_count": 9,
   "metadata": {},
   "outputs": [
    {
     "name": "stdout",
     "output_type": "stream",
     "text": [
      "Requirement already satisfied: pyresparser in /Users/faizan/opt/anaconda3/lib/python3.7/site-packages (1.0.6)\n",
      "Requirement already satisfied: urllib3>=1.25.3 in /Users/faizan/opt/anaconda3/lib/python3.7/site-packages (from pyresparser) (1.25.8)\n",
      "Requirement already satisfied: pytz>=2019.1 in /Users/faizan/opt/anaconda3/lib/python3.7/site-packages (from pyresparser) (2019.3)\n",
      "Requirement already satisfied: six>=1.12.0 in /Users/faizan/opt/anaconda3/lib/python3.7/site-packages (from pyresparser) (1.14.0)\n",
      "Requirement already satisfied: spacy>=2.1.4 in /Users/faizan/opt/anaconda3/lib/python3.7/site-packages (from pyresparser) (2.3.4)\n",
      "Requirement already satisfied: python-dateutil>=2.8.0 in /Users/faizan/opt/anaconda3/lib/python3.7/site-packages (from pyresparser) (2.8.1)\n",
      "Requirement already satisfied: pycryptodome>=3.8.2 in /Users/faizan/opt/anaconda3/lib/python3.7/site-packages (from pyresparser) (3.9.9)\n",
      "Requirement already satisfied: wasabi>=0.2.2 in /Users/faizan/opt/anaconda3/lib/python3.7/site-packages (from pyresparser) (0.8.0)\n",
      "Requirement already satisfied: cymem>=2.0.2 in /Users/faizan/opt/anaconda3/lib/python3.7/site-packages (from pyresparser) (2.0.4)\n",
      "Requirement already satisfied: requests>=2.22.0 in /Users/faizan/opt/anaconda3/lib/python3.7/site-packages (from pyresparser) (2.22.0)\n",
      "Requirement already satisfied: pyrsistent>=0.15.2 in /Users/faizan/opt/anaconda3/lib/python3.7/site-packages (from pyresparser) (0.15.7)\n",
      "Requirement already satisfied: blis>=0.2.4 in /Users/faizan/opt/anaconda3/lib/python3.7/site-packages (from pyresparser) (0.7.3)\n",
      "Requirement already satisfied: thinc>=7.0.4 in /Users/faizan/opt/anaconda3/lib/python3.7/site-packages (from pyresparser) (7.4.3)\n",
      "Requirement already satisfied: chardet>=3.0.4 in /Users/faizan/opt/anaconda3/lib/python3.7/site-packages (from pyresparser) (3.0.4)\n",
      "Requirement already satisfied: pandas>=0.24.2 in /Users/faizan/opt/anaconda3/lib/python3.7/site-packages (from pyresparser) (1.0.1)\n",
      "Requirement already satisfied: pdfminer.six>=20181108 in /Users/faizan/opt/anaconda3/lib/python3.7/site-packages (from pyresparser) (20200517)\n",
      "Requirement already satisfied: nltk>=3.4.3 in /Users/faizan/opt/anaconda3/lib/python3.7/site-packages (from pyresparser) (3.4.5)\n",
      "Requirement already satisfied: idna>=2.8 in /Users/faizan/opt/anaconda3/lib/python3.7/site-packages (from pyresparser) (2.8)\n",
      "Requirement already satisfied: jsonschema>=3.0.1 in /Users/faizan/opt/anaconda3/lib/python3.7/site-packages (from pyresparser) (3.2.0)\n",
      "Requirement already satisfied: preshed>=2.0.1 in /Users/faizan/opt/anaconda3/lib/python3.7/site-packages (from pyresparser) (3.0.4)\n",
      "Requirement already satisfied: attrs>=19.1.0 in /Users/faizan/opt/anaconda3/lib/python3.7/site-packages (from pyresparser) (19.3.0)\n",
      "Requirement already satisfied: numpy>=1.16.4 in /Users/faizan/opt/anaconda3/lib/python3.7/site-packages (from pyresparser) (1.18.4)\n",
      "Requirement already satisfied: docx2txt>=0.7 in /Users/faizan/opt/anaconda3/lib/python3.7/site-packages (from pyresparser) (0.8)\n",
      "Requirement already satisfied: tqdm>=4.32.2 in /Users/faizan/opt/anaconda3/lib/python3.7/site-packages (from pyresparser) (4.46.0)\n",
      "Requirement already satisfied: sortedcontainers>=2.1.0 in /Users/faizan/opt/anaconda3/lib/python3.7/site-packages (from pyresparser) (2.1.0)\n",
      "Requirement already satisfied: srsly>=0.0.7 in /Users/faizan/opt/anaconda3/lib/python3.7/site-packages (from pyresparser) (2.3.2)\n",
      "Requirement already satisfied: certifi>=2019.6.16 in /Users/faizan/opt/anaconda3/lib/python3.7/site-packages (from pyresparser) (2019.11.28)\n",
      "Requirement already satisfied: murmurhash<1.1.0,>=0.28.0 in /Users/faizan/opt/anaconda3/lib/python3.7/site-packages (from spacy>=2.1.4->pyresparser) (1.0.4)\n",
      "Requirement already satisfied: catalogue<1.1.0,>=0.0.7 in /Users/faizan/opt/anaconda3/lib/python3.7/site-packages (from spacy>=2.1.4->pyresparser) (1.0.0)\n",
      "Requirement already satisfied: plac<1.2.0,>=0.9.6 in /Users/faizan/opt/anaconda3/lib/python3.7/site-packages (from spacy>=2.1.4->pyresparser) (1.1.3)\n",
      "Requirement already satisfied: setuptools in /Users/faizan/opt/anaconda3/lib/python3.7/site-packages (from spacy>=2.1.4->pyresparser) (46.0.0.post20200309)\n",
      "Requirement already satisfied: importlib-metadata; python_version < \"3.8\" in /Users/faizan/opt/anaconda3/lib/python3.7/site-packages (from jsonschema>=3.0.1->pyresparser) (1.5.0)\n",
      "Requirement already satisfied: zipp>=0.5 in /Users/faizan/opt/anaconda3/lib/python3.7/site-packages (from importlib-metadata; python_version < \"3.8\"->jsonschema>=3.0.1->pyresparser) (2.2.0)\n",
      "Note: you may need to restart the kernel to use updated packages.\n"
     ]
    }
   ],
   "source": [
    "pip install pyresparser\n"
   ]
  },
  {
   "cell_type": "markdown",
   "metadata": {},
   "source": [
    "For NLP operations we use spacy and nltk."
   ]
  },
  {
   "cell_type": "code",
   "execution_count": 10,
   "metadata": {},
   "outputs": [],
   "source": [
    "#spaCy\n",
    "#python -m spacy download en_core_web_sm\n",
    "\n",
    "#nltk\n",
    "#python -m nltk.downloader words"
   ]
  },
  {
   "cell_type": "code",
   "execution_count": 11,
   "metadata": {},
   "outputs": [],
   "source": [
    "from pyresparser import ResumeParser\n",
    "r1 = ResumeParser('/Users/faizan/Documents/BASF_Challange/Resume_Parsing/Resume.pdf').get_extracted_data()\n",
    "r2 = ResumeParser('/Users/faizan/Documents/BASF_Challange/Resume_Parsing/Daniyal.pdf').get_extracted_data()\n",
    "r3 = ResumeParser('/Users/faizan/Documents/BASF_Challange/Resume_Parsing/Saad.pdf').get_extracted_data()"
   ]
  },
  {
   "cell_type": "code",
   "execution_count": 12,
   "metadata": {},
   "outputs": [],
   "source": [
    "import pandas as pd"
   ]
  },
  {
   "cell_type": "code",
   "execution_count": 13,
   "metadata": {},
   "outputs": [],
   "source": [
    "#Creating list of dictionaries\n",
    "list_resume = [r1, r2, r3]"
   ]
  },
  {
   "cell_type": "code",
   "execution_count": 14,
   "metadata": {},
   "outputs": [],
   "source": [
    "#Creating dataframe from dictonaries\n",
    "df = pd.DataFrame(list_resume)"
   ]
  },
  {
   "cell_type": "code",
   "execution_count": 15,
   "metadata": {},
   "outputs": [
    {
     "data": {
      "text/html": [
       "<div>\n",
       "<style scoped>\n",
       "    .dataframe tbody tr th:only-of-type {\n",
       "        vertical-align: middle;\n",
       "    }\n",
       "\n",
       "    .dataframe tbody tr th {\n",
       "        vertical-align: top;\n",
       "    }\n",
       "\n",
       "    .dataframe thead th {\n",
       "        text-align: right;\n",
       "    }\n",
       "</style>\n",
       "<table border=\"1\" class=\"dataframe\">\n",
       "  <thead>\n",
       "    <tr style=\"text-align: right;\">\n",
       "      <th></th>\n",
       "      <th>name</th>\n",
       "      <th>email</th>\n",
       "      <th>mobile_number</th>\n",
       "      <th>skills</th>\n",
       "      <th>college_name</th>\n",
       "      <th>degree</th>\n",
       "      <th>designation</th>\n",
       "      <th>experience</th>\n",
       "      <th>company_names</th>\n",
       "      <th>no_of_pages</th>\n",
       "      <th>total_experience</th>\n",
       "    </tr>\n",
       "  </thead>\n",
       "  <tbody>\n",
       "    <tr>\n",
       "      <th>0</th>\n",
       "      <td>FAIZAN KHAN</td>\n",
       "      <td>faizanpervaizkhan@gmail.com</td>\n",
       "      <td>525-6525</td>\n",
       "      <td>[Networking, Machine learning, English, Partne...</td>\n",
       "      <td>None</td>\n",
       "      <td>[M.S. in Web and Data Science, B.S. in Compute...</td>\n",
       "      <td>[SQL Machine Leanring, Partnership Manager, Tr...</td>\n",
       "      <td>[Trainee Software Engineer, NextBridge, (cid:1...</td>\n",
       "      <td>None</td>\n",
       "      <td>1</td>\n",
       "      <td>0.00</td>\n",
       "    </tr>\n",
       "    <tr>\n",
       "      <th>1</th>\n",
       "      <td>Daniyal Saleem</td>\n",
       "      <td>daniyalsaleem@uni-koblenz.de</td>\n",
       "      <td>353 9711</td>\n",
       "      <td>[Algorithms, Machine learning, English, .net, ...</td>\n",
       "      <td>None</td>\n",
       "      <td>None</td>\n",
       "      <td>None</td>\n",
       "      <td>[2018–2019 Software Engineer, GlaxoSmithKline,...</td>\n",
       "      <td>None</td>\n",
       "      <td>2</td>\n",
       "      <td>0.00</td>\n",
       "    </tr>\n",
       "    <tr>\n",
       "      <th>2</th>\n",
       "      <td>Syed Saad Ahmed</td>\n",
       "      <td>syedsaadahmed2094@yahoo.com</td>\n",
       "      <td>590 1147383</td>\n",
       "      <td>[Algorithms, Regulatory, Mysql, Security, Engl...</td>\n",
       "      <td>None</td>\n",
       "      <td>[Bachelors Of Engineering in Computer &amp; Inform...</td>\n",
       "      <td>[Web Development, Software Engineer, Software ...</td>\n",
       "      <td>[Feb 2020 - Present, Back-End Software Enginee...</td>\n",
       "      <td>[Meezan Bank Pvt. LTD, Karachi]</td>\n",
       "      <td>3</td>\n",
       "      <td>4.67</td>\n",
       "    </tr>\n",
       "  </tbody>\n",
       "</table>\n",
       "</div>"
      ],
      "text/plain": [
       "              name                         email mobile_number  \\\n",
       "0      FAIZAN KHAN   faizanpervaizkhan@gmail.com      525-6525   \n",
       "1   Daniyal Saleem  daniyalsaleem@uni-koblenz.de      353 9711   \n",
       "2  Syed Saad Ahmed   syedsaadahmed2094@yahoo.com   590 1147383   \n",
       "\n",
       "                                              skills college_name  \\\n",
       "0  [Networking, Machine learning, English, Partne...         None   \n",
       "1  [Algorithms, Machine learning, English, .net, ...         None   \n",
       "2  [Algorithms, Regulatory, Mysql, Security, Engl...         None   \n",
       "\n",
       "                                              degree  \\\n",
       "0  [M.S. in Web and Data Science, B.S. in Compute...   \n",
       "1                                               None   \n",
       "2  [Bachelors Of Engineering in Computer & Inform...   \n",
       "\n",
       "                                         designation  \\\n",
       "0  [SQL Machine Leanring, Partnership Manager, Tr...   \n",
       "1                                               None   \n",
       "2  [Web Development, Software Engineer, Software ...   \n",
       "\n",
       "                                          experience  \\\n",
       "0  [Trainee Software Engineer, NextBridge, (cid:1...   \n",
       "1  [2018–2019 Software Engineer, GlaxoSmithKline,...   \n",
       "2  [Feb 2020 - Present, Back-End Software Enginee...   \n",
       "\n",
       "                     company_names  no_of_pages  total_experience  \n",
       "0                             None            1              0.00  \n",
       "1                             None            2              0.00  \n",
       "2  [Meezan Bank Pvt. LTD, Karachi]            3              4.67  "
      ]
     },
     "execution_count": 15,
     "metadata": {},
     "output_type": "execute_result"
    }
   ],
   "source": [
    "df"
   ]
  }
 ],
 "metadata": {
  "kernelspec": {
   "display_name": "Python 3",
   "language": "python",
   "name": "python3"
  },
  "language_info": {
   "codemirror_mode": {
    "name": "ipython",
    "version": 3
   },
   "file_extension": ".py",
   "mimetype": "text/x-python",
   "name": "python",
   "nbconvert_exporter": "python",
   "pygments_lexer": "ipython3",
   "version": "3.7.6"
  }
 },
 "nbformat": 4,
 "nbformat_minor": 4
}
