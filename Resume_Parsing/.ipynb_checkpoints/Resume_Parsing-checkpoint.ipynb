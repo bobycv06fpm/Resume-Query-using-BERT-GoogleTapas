{
 "cells": [
  {
   "cell_type": "markdown",
   "metadata": {},
   "source": [
    "## Pyresparser\n",
    "\n",
    "A simple resume parser used for extracting information from resumes\n",
    "\n",
    "### Features\n",
    "- Extract name\n",
    "- Extract email\n",
    "- Extract mobile numbers\n",
    "- Extract skills\n",
    "- Extract total experience\n",
    "- Extract college name\n",
    "- Extract degree\n",
    "- Extract designation\n",
    "- Extract company names"
   ]
  },
  {
   "cell_type": "code",
   "execution_count": 1,
   "metadata": {},
   "outputs": [
    {
     "name": "stdout",
     "output_type": "stream",
     "text": [
      "Requirement already satisfied: pyresparser in /Users/faizan/opt/anaconda3/lib/python3.7/site-packages (1.0.6)\n",
      "Requirement already satisfied: sortedcontainers>=2.1.0 in /Users/faizan/opt/anaconda3/lib/python3.7/site-packages (from pyresparser) (2.1.0)\n",
      "Requirement already satisfied: srsly>=0.0.7 in /Users/faizan/opt/anaconda3/lib/python3.7/site-packages (from pyresparser) (2.3.2)\n",
      "Requirement already satisfied: cymem>=2.0.2 in /Users/faizan/opt/anaconda3/lib/python3.7/site-packages (from pyresparser) (2.0.4)\n",
      "Requirement already satisfied: thinc>=7.0.4 in /Users/faizan/opt/anaconda3/lib/python3.7/site-packages (from pyresparser) (7.4.3)\n",
      "Requirement already satisfied: pycryptodome>=3.8.2 in /Users/faizan/opt/anaconda3/lib/python3.7/site-packages (from pyresparser) (3.9.9)\n",
      "Requirement already satisfied: docx2txt>=0.7 in /Users/faizan/opt/anaconda3/lib/python3.7/site-packages (from pyresparser) (0.8)\n",
      "Requirement already satisfied: spacy>=2.1.4 in /Users/faizan/opt/anaconda3/lib/python3.7/site-packages (from pyresparser) (2.3.4)\n",
      "Requirement already satisfied: wasabi>=0.2.2 in /Users/faizan/opt/anaconda3/lib/python3.7/site-packages (from pyresparser) (0.8.0)\n",
      "Requirement already satisfied: python-dateutil>=2.8.0 in /Users/faizan/opt/anaconda3/lib/python3.7/site-packages (from pyresparser) (2.8.1)\n",
      "Requirement already satisfied: idna>=2.8 in /Users/faizan/opt/anaconda3/lib/python3.7/site-packages (from pyresparser) (2.8)\n",
      "Requirement already satisfied: preshed>=2.0.1 in /Users/faizan/opt/anaconda3/lib/python3.7/site-packages (from pyresparser) (3.0.4)\n",
      "Requirement already satisfied: nltk>=3.4.3 in /Users/faizan/opt/anaconda3/lib/python3.7/site-packages (from pyresparser) (3.4.5)\n",
      "Requirement already satisfied: six>=1.12.0 in /Users/faizan/opt/anaconda3/lib/python3.7/site-packages (from pyresparser) (1.14.0)\n",
      "Requirement already satisfied: blis>=0.2.4 in /Users/faizan/opt/anaconda3/lib/python3.7/site-packages (from pyresparser) (0.7.3)\n",
      "Requirement already satisfied: chardet>=3.0.4 in /Users/faizan/opt/anaconda3/lib/python3.7/site-packages (from pyresparser) (3.0.4)\n",
      "Requirement already satisfied: attrs>=19.1.0 in /Users/faizan/opt/anaconda3/lib/python3.7/site-packages (from pyresparser) (19.3.0)\n",
      "Requirement already satisfied: certifi>=2019.6.16 in /Users/faizan/opt/anaconda3/lib/python3.7/site-packages (from pyresparser) (2019.11.28)\n",
      "Requirement already satisfied: numpy>=1.16.4 in /Users/faizan/opt/anaconda3/lib/python3.7/site-packages (from pyresparser) (1.18.4)\n",
      "Requirement already satisfied: tqdm>=4.32.2 in /Users/faizan/opt/anaconda3/lib/python3.7/site-packages (from pyresparser) (4.46.0)\n",
      "Requirement already satisfied: pyrsistent>=0.15.2 in /Users/faizan/opt/anaconda3/lib/python3.7/site-packages (from pyresparser) (0.15.7)\n",
      "Requirement already satisfied: jsonschema>=3.0.1 in /Users/faizan/opt/anaconda3/lib/python3.7/site-packages (from pyresparser) (3.2.0)\n",
      "Requirement already satisfied: pdfminer.six>=20181108 in /Users/faizan/opt/anaconda3/lib/python3.7/site-packages (from pyresparser) (20200517)\n",
      "Requirement already satisfied: requests>=2.22.0 in /Users/faizan/opt/anaconda3/lib/python3.7/site-packages (from pyresparser) (2.22.0)\n",
      "Requirement already satisfied: urllib3>=1.25.3 in /Users/faizan/opt/anaconda3/lib/python3.7/site-packages (from pyresparser) (1.25.8)\n",
      "Requirement already satisfied: pandas>=0.24.2 in /Users/faizan/opt/anaconda3/lib/python3.7/site-packages (from pyresparser) (1.0.1)\n",
      "Requirement already satisfied: pytz>=2019.1 in /Users/faizan/opt/anaconda3/lib/python3.7/site-packages (from pyresparser) (2019.3)\n",
      "Requirement already satisfied: catalogue<1.1.0,>=0.0.7 in /Users/faizan/opt/anaconda3/lib/python3.7/site-packages (from thinc>=7.0.4->pyresparser) (1.0.0)\n",
      "Requirement already satisfied: murmurhash<1.1.0,>=0.28.0 in /Users/faizan/opt/anaconda3/lib/python3.7/site-packages (from thinc>=7.0.4->pyresparser) (1.0.4)\n",
      "Requirement already satisfied: plac<1.2.0,>=0.9.6 in /Users/faizan/opt/anaconda3/lib/python3.7/site-packages (from thinc>=7.0.4->pyresparser) (1.1.3)\n",
      "Requirement already satisfied: setuptools in /Users/faizan/opt/anaconda3/lib/python3.7/site-packages (from spacy>=2.1.4->pyresparser) (46.0.0.post20200309)\n",
      "Requirement already satisfied: importlib-metadata; python_version < \"3.8\" in /Users/faizan/opt/anaconda3/lib/python3.7/site-packages (from jsonschema>=3.0.1->pyresparser) (1.5.0)\n",
      "Requirement already satisfied: zipp>=0.5 in /Users/faizan/opt/anaconda3/lib/python3.7/site-packages (from importlib-metadata; python_version < \"3.8\"->jsonschema>=3.0.1->pyresparser) (2.2.0)\n",
      "Note: you may need to restart the kernel to use updated packages.\n"
     ]
    }
   ],
   "source": [
    "pip install pyresparser\n"
   ]
  },
  {
   "cell_type": "markdown",
   "metadata": {},
   "source": [
    "For NLP operations we use spacy and nltk."
   ]
  },
  {
   "cell_type": "code",
   "execution_count": 2,
   "metadata": {},
   "outputs": [],
   "source": [
    "#spaCy\n",
    "#python -m spacy download en_core_web_sm\n",
    "\n",
    "#nltk\n",
    "#python -m nltk.downloader words"
   ]
  },
  {
   "cell_type": "code",
   "execution_count": 3,
   "metadata": {},
   "outputs": [],
   "source": [
    "from pyresparser import ResumeParser\n",
    "import pandas as pd"
   ]
  },
  {
   "cell_type": "code",
   "execution_count": 4,
   "metadata": {},
   "outputs": [],
   "source": [
    "import os\n",
    "from fnmatch import fnmatch\n",
    "\n",
    "root = '/Users/faizan/Documents/BASF_Challange/Resume_Parsing/Resumes'\n",
    "pattern = \"*.docx\"\n",
    "\n",
    "list_resumes=[]\n",
    "\n",
    "for path, subdirs, files in os.walk(root):\n",
    "    for name in files:\n",
    "        if fnmatch(name, pattern):\n",
    "            list_resumes.append(ResumeParser('/Users/faizan/Documents/BASF_Challange/Resume_Parsing/resume_dataset/%s' % os.path.join(name)).get_extracted_data())"
   ]
  },
  {
   "cell_type": "code",
   "execution_count": 5,
   "metadata": {},
   "outputs": [],
   "source": [
    "#Creating dataframe from dictonaries\n",
    "df = pd.DataFrame(list_resumes)"
   ]
  },
  {
   "cell_type": "code",
   "execution_count": 6,
   "metadata": {},
   "outputs": [
    {
     "data": {
      "text/html": [
       "<div>\n",
       "<style scoped>\n",
       "    .dataframe tbody tr th:only-of-type {\n",
       "        vertical-align: middle;\n",
       "    }\n",
       "\n",
       "    .dataframe tbody tr th {\n",
       "        vertical-align: top;\n",
       "    }\n",
       "\n",
       "    .dataframe thead th {\n",
       "        text-align: right;\n",
       "    }\n",
       "</style>\n",
       "<table border=\"1\" class=\"dataframe\">\n",
       "  <thead>\n",
       "    <tr style=\"text-align: right;\">\n",
       "      <th></th>\n",
       "    </tr>\n",
       "  </thead>\n",
       "  <tbody>\n",
       "  </tbody>\n",
       "</table>\n",
       "</div>"
      ],
      "text/plain": [
       "Empty DataFrame\n",
       "Columns: []\n",
       "Index: []"
      ]
     },
     "execution_count": 6,
     "metadata": {},
     "output_type": "execute_result"
    }
   ],
   "source": [
    "df"
   ]
  },
  {
   "cell_type": "code",
   "execution_count": 7,
   "metadata": {},
   "outputs": [
    {
     "data": {
      "text/plain": [
       "'\"\"\\n'"
      ]
     },
     "execution_count": 7,
     "metadata": {},
     "output_type": "execute_result"
    }
   ],
   "source": [
    "df.to_csv(index=True)"
   ]
  },
  {
   "cell_type": "code",
   "execution_count": 8,
   "metadata": {},
   "outputs": [],
   "source": [
    "compression_opts = dict(method='zip', archive_name='data.csv')  \n",
    "\n",
    "df.to_csv('data.zip', index=False, compression=compression_opts)"
   ]
  }
 ],
 "metadata": {
  "kernelspec": {
   "display_name": "Python 3",
   "language": "python",
   "name": "python3"
  },
  "language_info": {
   "codemirror_mode": {
    "name": "ipython",
    "version": 3
   },
   "file_extension": ".py",
   "mimetype": "text/x-python",
   "name": "python",
   "nbconvert_exporter": "python",
   "pygments_lexer": "ipython3",
   "version": "3.7.6"
  }
 },
 "nbformat": 4,
 "nbformat_minor": 4
}
